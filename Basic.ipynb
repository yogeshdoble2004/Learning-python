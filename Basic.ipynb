Hii i am learning python!
